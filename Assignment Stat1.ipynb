{
 "cells": [
  {
   "cell_type": "markdown",
   "id": "b6ebe47d",
   "metadata": {},
   "source": [
    "### Problem Statement 1:"
   ]
  },
  {
   "cell_type": "code",
   "execution_count": 4,
   "id": "2052618d",
   "metadata": {},
   "outputs": [],
   "source": [
    "import statistics"
   ]
  },
  {
   "cell_type": "code",
   "execution_count": 43,
   "id": "3acb76ee",
   "metadata": {},
   "outputs": [],
   "source": [
    "data = [6,7,5,7,7,8,7,6,9,7,4,10,6,8,8,9,5,6,4,8]"
   ]
  },
  {
   "cell_type": "code",
   "execution_count": 44,
   "id": "8eb8ae8d",
   "metadata": {},
   "outputs": [
    {
     "data": {
      "text/plain": [
       "6.85"
      ]
     },
     "execution_count": 44,
     "metadata": {},
     "output_type": "execute_result"
    }
   ],
   "source": [
    "mean = sum(data)/len(data)\n",
    "mean"
   ]
  },
  {
   "cell_type": "code",
   "execution_count": 45,
   "id": "967ffb85",
   "metadata": {},
   "outputs": [
    {
     "data": {
      "text/plain": [
       "7.0"
      ]
     },
     "execution_count": 45,
     "metadata": {},
     "output_type": "execute_result"
    }
   ],
   "source": [
    "median = statistics.median(data)\n",
    "median"
   ]
  },
  {
   "cell_type": "code",
   "execution_count": 46,
   "id": "e29f5d5e",
   "metadata": {},
   "outputs": [
    {
     "data": {
      "text/plain": [
       "7"
      ]
     },
     "execution_count": 46,
     "metadata": {},
     "output_type": "execute_result"
    }
   ],
   "source": [
    "mode = statistics.mode(data)\n",
    "mode"
   ]
  },
  {
   "cell_type": "code",
   "execution_count": 47,
   "id": "bbabafbd",
   "metadata": {},
   "outputs": [
    {
     "data": {
      "text/plain": [
       "1.6311119875071343"
      ]
     },
     "execution_count": 47,
     "metadata": {},
     "output_type": "execute_result"
    }
   ],
   "source": [
    "std_dev = statistics.stdev(data)\n",
    "std_dev"
   ]
  },
  {
   "cell_type": "markdown",
   "id": "a435623c",
   "metadata": {},
   "source": [
    "### Problem Statement 2:"
   ]
  },
  {
   "cell_type": "code",
   "execution_count": 48,
   "id": "8f32a194",
   "metadata": {},
   "outputs": [],
   "source": [
    "data = [28, 122, 217, 130, 120, 86, 80, 90, 140, 120, 70, 40, 145, 113, 90, 68, 174, 194, 170,100, 75, 104, 97, 75,123, 100, 75, 104, 97, 75, 123, 100, 89, 120, 109]"
   ]
  },
  {
   "cell_type": "code",
   "execution_count": 49,
   "id": "446c2efb",
   "metadata": {},
   "outputs": [
    {
     "data": {
      "text/plain": [
       "107.51428571428572"
      ]
     },
     "execution_count": 49,
     "metadata": {},
     "output_type": "execute_result"
    }
   ],
   "source": [
    "mean = sum(data)/len(data)\n",
    "mean"
   ]
  },
  {
   "cell_type": "code",
   "execution_count": 50,
   "id": "df851069",
   "metadata": {},
   "outputs": [
    {
     "data": {
      "text/plain": [
       "100"
      ]
     },
     "execution_count": 50,
     "metadata": {},
     "output_type": "execute_result"
    }
   ],
   "source": [
    "median = statistics.median(data)\n",
    "median"
   ]
  },
  {
   "cell_type": "code",
   "execution_count": 51,
   "id": "46bf691e",
   "metadata": {},
   "outputs": [
    {
     "data": {
      "text/plain": [
       "75"
      ]
     },
     "execution_count": 51,
     "metadata": {},
     "output_type": "execute_result"
    }
   ],
   "source": [
    "mode = statistics.mode(data)\n",
    "mode"
   ]
  },
  {
   "cell_type": "code",
   "execution_count": 52,
   "id": "84ed8c8a",
   "metadata": {},
   "outputs": [
    {
     "data": {
      "text/plain": [
       "39.33892805484412"
      ]
     },
     "execution_count": 52,
     "metadata": {},
     "output_type": "execute_result"
    }
   ],
   "source": [
    "std_dev = statistics.stdev(data)\n",
    "std_dev"
   ]
  },
  {
   "cell_type": "markdown",
   "id": "a991639d",
   "metadata": {},
   "source": [
    "### Problem Statement 3:"
   ]
  },
  {
   "cell_type": "markdown",
   "id": "e004847f",
   "metadata": {},
   "source": [
    "x = 0, 1, 2, 3, 4, 5\n",
    "f(x) = 0.09, 0.15, 0.40, 0.25, 0.10, 0.01"
   ]
  },
  {
   "cell_type": "code",
   "execution_count": 8,
   "id": "80624439",
   "metadata": {},
   "outputs": [
    {
     "name": "stdout",
     "output_type": "stream",
     "text": [
      "[0.0, 0.15, 0.8, 0.75, 0.4, 0.05]\n"
     ]
    },
    {
     "data": {
      "text/plain": [
       "0.35833333333333334"
      ]
     },
     "execution_count": 8,
     "metadata": {},
     "output_type": "execute_result"
    }
   ],
   "source": [
    "data = [(0*0.09),(1*0.15),(2*0.40),(3*0.25),(4*0.1),(5*0.01)]\n",
    "statistics.mean(data)"
   ]
  },
  {
   "cell_type": "code",
   "execution_count": 6,
   "id": "78feae3e",
   "metadata": {},
   "outputs": [
    {
     "data": {
      "text/plain": [
       "0.12341666666666667"
      ]
     },
     "execution_count": 6,
     "metadata": {},
     "output_type": "execute_result"
    }
   ],
   "source": [
    "statistics.variance(data)"
   ]
  }
 ],
 "metadata": {
  "kernelspec": {
   "display_name": "Python 3",
   "language": "python",
   "name": "python3"
  },
  "language_info": {
   "codemirror_mode": {
    "name": "ipython",
    "version": 3
   },
   "file_extension": ".py",
   "mimetype": "text/x-python",
   "name": "python",
   "nbconvert_exporter": "python",
   "pygments_lexer": "ipython3",
   "version": "3.8.8"
  }
 },
 "nbformat": 4,
 "nbformat_minor": 5
}
